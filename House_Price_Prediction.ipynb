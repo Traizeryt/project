
{
 "cells": [
  {
   "cell_type": "markdown",
   "metadata": {},
   "source": [
    "# House Price Prediction Project\n",
    "Yassin Tamer"
   ]
  },
  {
   "cell_type": "code",
   "execution_count": null,
   "metadata": {},
   "outputs": [],
   "source": [
    "# 🧰 Step 1: Getting Ready\n",
    "# We are importing tools that help us with math, graphs, and learning from data.\n",
    "import pandas as pd\n",
    "import numpy as np\n",
    "import matplotlib.pyplot as plt\n",
    "import seaborn as sns\n",
    "%matplotlib inline\n",
    "\n",
    "from sklearn.model_selection import train_test_split\n",
    "from sklearn.linear_model import LinearRegression\n",
    "from sklearn.metrics import mean_squared_error, r2_score"
   ]
  },
  {
   "cell_type": "code",
   "execution_count": null,
   "metadata": {},
   "outputs": [],
   "source": [
    "# 📂 Step 2: Load the House Data\n",
    "# We are getting a list of house prices and features from a file online.\n",
    "url = \"https://raw.githubusercontent.com/selva86/datasets/master/BostonHousing.csv\"\n",
    "df = pd.read_csv(url)\n",
    "print(df.head())\n",
    "print(\n\"\nMissing values:\n\", df.isnull().sum())"
   ]
  },
  {
   "cell_type": "code",
   "execution_count": null,
   "metadata": {},
   "outputs": [],
   "source": [
    "# 🧼 Step 3: Clean the Data\n",
    "# We are making sure there's no empty spots in our table.\n",
    "df = df.dropna()"
   ]
  },
  {
   "cell_type": "code",
   "execution_count": null,
   "metadata": {},
   "outputs": [],
   "source": [
    "# 📊 Step 4: Look at the Data with Pictures\n",
    "# We draw some graphs to see how things like rooms or neighborhoods affect prices.\n",
    "sns.pairplot(df[['rm','lstat','ptratio','medv']])\n",
    "plt.suptitle(\"How rooms and area relate to house prices\", y=1.02)\n",
    "plt.show()"
   ]
  },
  {
   "cell_type": "code",
   "execution_count": null,
   "metadata": {},
   "outputs": [],
   "source": [
    "# 🔍 Step 5: Show How Features Are Connected\n",
    "# This chart shows which things are most related to house price.\n",
    "plt.figure(figsize=(8,6))\n",
    "sns.heatmap(df.corr(), annot=True, cmap='coolwarm')\n",
    "plt.title(\"What affects house price the most?\")\n",
    "plt.show()"
   ]
  },
  {
   "cell_type": "code",
   "execution_count": null,
   "metadata": {},
   "outputs": [],
   "source": [
    "# ✂️ Step 6: Pick Data to Use\n",
    "# We choose the room count, neighborhood status, and teacher ratio to guess house price.\n",
    "X = df[['rm','lstat','ptratio']]\n",
    "y = df['medv']\n",
    "X_train, X_test, y_train, y_test = train_test_split(X, y, test_size=0.2, random_state=1)"
   ]
  },
  {
   "cell_type": "code",
   "execution_count": null,
   "metadata": {},
   "outputs": [],
   "source": [
    "# 🧠 Step 7: Teach the Computer\n",
    "# Now we train the model to learn how house prices work.\n",
    "model = LinearRegression()\n",
    "model.fit(X_train, y_train)"
   ]
  },
  {
   "cell_type": "code",
   "execution_count": null,
   "metadata": {},
   "outputs": [],
   "source": [
    "# 🧪 Step 8: Test the Model\n",
    "# We ask our model to guess prices and then check how close it was.\n",
    "y_pred = model.predict(X_test)\n",
    "mse = mean_squared_error(y_test, y_pred)\n",
    "r2 = r2_score(y_test, y_pred)\n",
    "print(f\"How wrong it was (MSE): {mse:.2f}\")\n",
    "print(f\"How well it guessed (R²): {r2:.2f}\")"
   ]
  },
  {
   "cell_type": "code",
   "execution_count": null,
   "metadata": {},
   "outputs": [],
   "source": [
    "# 📈 Step 9: See Predictions on a Graph\n",
    "# We draw what the model guessed and what the real prices were.\n",
    "plt.scatter(y_test, y_pred, alpha=0.7)\n",
    "plt.plot([y.min(), y.max()], [y.min(), y.max()], 'r--')\n",
    "plt.xlabel(\"Actual Price\")\n",
    "plt.ylabel(\"Predicted Price\")\n",
    "plt.title(\"How good were our guesses?\")\n",
    "plt.show()"
   ]
  },
  {
   "cell_type": "markdown",
   "metadata": {},
   "source": [
    "## 📋 If My Teacher Asks Me...\n",
    "**Q: What is this project?**\n",
    "A: This project guesses house prices using a simple machine learning method called Linear Regression. It looks at things like number of rooms and how nice the area is to make its guess.\n",
    "\n",
    "**Q: What is Linear Regression?**\n",
    "A: It’s like drawing a line through dots (data) to predict new dots.\n",
    "\n",
    "**Q: What did you learn?**\n",
    "A: I learned how features like more rooms usually mean higher prices. I also learned how to train a computer to make predictions and check how accurate they are."
   ]
  }
 ],
 "metadata": {
  "kernelspec": {
   "display_name": "Python 3",
   "language": "python",
   "name": "python3"
  },
  "language_info": {
   "name": "python"
  }
 },
 "nbformat": 4,
 "nbformat_minor": 2
}
